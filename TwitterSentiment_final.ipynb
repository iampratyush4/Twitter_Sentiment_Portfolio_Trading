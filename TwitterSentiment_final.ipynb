{
 "cells": [
  {
   "cell_type": "markdown",
   "id": "f7ffdffe",
   "metadata": {},
   "source": [
    "# Twitter Sentiment Investing Strategy\n",
    "This notebook demonstrates how to implement an investing strategy based on Twitter sentiment data."
   ]
  },
  {
   "cell_type": "markdown",
   "id": "4e8c074b",
   "metadata": {},
   "source": [
    "## Step 1: Load and Process Sentiment Data\n",
    "We start by loading the sentiment data from a CSV file and processing it to compute the engagement ratio and filter the data."
   ]
  },
  {
   "cell_type": "code",
   "execution_count": 1,
   "id": "2405a480",
   "metadata": {},
   "outputs": [
    {
     "name": "stdout",
     "output_type": "stream",
     "text": [
      "Defaulting to user installation because normal site-packages is not writeable\n",
      "Collecting yfinance\n",
      "  Downloading yfinance-0.2.41-py2.py3-none-any.whl (73 kB)\n",
      "\u001b[K     |████████████████████████████████| 73 kB 4.8 MB/s eta 0:00:011\n",
      "\u001b[?25hRequirement already satisfied: pandas in /Users/pratyushupadhyay/Library/Python/3.9/lib/python/site-packages (2.2.2)\n",
      "Collecting matplotlib\n",
      "  Downloading matplotlib-3.9.1-cp39-cp39-macosx_11_0_arm64.whl (7.8 MB)\n",
      "\u001b[K     |████████████████████████████████| 7.8 MB 3.1 MB/s eta 0:00:01\n",
      "\u001b[?25hRequirement already satisfied: lxml>=4.9.1 in /Users/pratyushupadhyay/Library/Python/3.9/lib/python/site-packages (from yfinance) (5.2.2)\n",
      "Requirement already satisfied: pytz>=2022.5 in /Users/pratyushupadhyay/Library/Python/3.9/lib/python/site-packages (from yfinance) (2024.1)\n",
      "Collecting multitasking>=0.0.7\n",
      "  Downloading multitasking-0.0.11-py3-none-any.whl (8.5 kB)\n",
      "Collecting peewee>=3.16.2\n",
      "  Using cached peewee-3.17.6-cp39-cp39-macosx_10_9_universal2.whl\n",
      "Collecting frozendict>=2.3.4\n",
      "  Downloading frozendict-2.4.4-cp39-cp39-macosx_11_0_arm64.whl (37 kB)\n",
      "Requirement already satisfied: requests>=2.31 in /Users/pratyushupadhyay/Library/Python/3.9/lib/python/site-packages (from yfinance) (2.32.3)\n",
      "Requirement already satisfied: platformdirs>=2.0.0 in /Users/pratyushupadhyay/Library/Python/3.9/lib/python/site-packages (from yfinance) (4.2.2)\n",
      "Collecting html5lib>=1.1\n",
      "  Downloading html5lib-1.1-py2.py3-none-any.whl (112 kB)\n",
      "\u001b[K     |████████████████████████████████| 112 kB 5.8 MB/s eta 0:00:01\n",
      "\u001b[?25hRequirement already satisfied: numpy>=1.16.5 in /Users/pratyushupadhyay/Library/Python/3.9/lib/python/site-packages (from yfinance) (2.0.0)\n",
      "Requirement already satisfied: beautifulsoup4>=4.11.1 in /Users/pratyushupadhyay/Library/Python/3.9/lib/python/site-packages (from yfinance) (4.12.3)\n",
      "Requirement already satisfied: python-dateutil>=2.8.2 in /Users/pratyushupadhyay/Library/Python/3.9/lib/python/site-packages (from pandas) (2.9.0.post0)\n",
      "Requirement already satisfied: tzdata>=2022.7 in /Users/pratyushupadhyay/Library/Python/3.9/lib/python/site-packages (from pandas) (2024.1)\n",
      "Collecting contourpy>=1.0.1\n",
      "  Downloading contourpy-1.2.1-cp39-cp39-macosx_11_0_arm64.whl (244 kB)\n",
      "\u001b[K     |████████████████████████████████| 244 kB 5.8 MB/s eta 0:00:01\n",
      "\u001b[?25hCollecting kiwisolver>=1.3.1\n",
      "  Downloading kiwisolver-1.4.5-cp39-cp39-macosx_11_0_arm64.whl (66 kB)\n",
      "\u001b[K     |████████████████████████████████| 66 kB 6.1 MB/s eta 0:00:011\n",
      "\u001b[?25hCollecting cycler>=0.10\n",
      "  Downloading cycler-0.12.1-py3-none-any.whl (8.3 kB)\n",
      "Collecting fonttools>=4.22.0\n",
      "  Downloading fonttools-4.53.1-cp39-cp39-macosx_11_0_arm64.whl (2.2 MB)\n",
      "\u001b[K     |████████████████████████████████| 2.2 MB 5.5 MB/s eta 0:00:01\n",
      "\u001b[?25hRequirement already satisfied: packaging>=20.0 in /Users/pratyushupadhyay/Library/Python/3.9/lib/python/site-packages (from matplotlib) (24.1)\n",
      "Collecting pillow>=8\n",
      "  Downloading pillow-10.4.0-cp39-cp39-macosx_11_0_arm64.whl (3.4 MB)\n",
      "\u001b[K     |████████████████████████████████| 3.4 MB 7.9 MB/s eta 0:00:01\n",
      "\u001b[?25hRequirement already satisfied: pyparsing>=2.3.1 in /Users/pratyushupadhyay/Library/Python/3.9/lib/python/site-packages (from matplotlib) (3.1.2)\n",
      "Collecting importlib-resources>=3.2.0\n",
      "  Downloading importlib_resources-6.4.0-py3-none-any.whl (38 kB)\n",
      "Requirement already satisfied: soupsieve>1.2 in /Users/pratyushupadhyay/Library/Python/3.9/lib/python/site-packages (from beautifulsoup4>=4.11.1->yfinance) (2.5)\n",
      "Requirement already satisfied: six>=1.9 in /Library/Developer/CommandLineTools/Library/Frameworks/Python3.framework/Versions/3.9/lib/python3.9/site-packages (from html5lib>=1.1->yfinance) (1.15.0)\n",
      "Collecting webencodings\n",
      "  Downloading webencodings-0.5.1-py2.py3-none-any.whl (11 kB)\n",
      "Requirement already satisfied: zipp>=3.1.0 in /Users/pratyushupadhyay/Library/Python/3.9/lib/python/site-packages (from importlib-resources>=3.2.0->matplotlib) (3.19.2)\n",
      "Requirement already satisfied: urllib3<3,>=1.21.1 in /Users/pratyushupadhyay/Library/Python/3.9/lib/python/site-packages (from requests>=2.31->yfinance) (2.2.2)\n",
      "Requirement already satisfied: charset-normalizer<4,>=2 in /Users/pratyushupadhyay/Library/Python/3.9/lib/python/site-packages (from requests>=2.31->yfinance) (3.3.2)\n",
      "Requirement already satisfied: certifi>=2017.4.17 in /Users/pratyushupadhyay/Library/Python/3.9/lib/python/site-packages (from requests>=2.31->yfinance) (2024.7.4)\n",
      "Requirement already satisfied: idna<4,>=2.5 in /Users/pratyushupadhyay/Library/Python/3.9/lib/python/site-packages (from requests>=2.31->yfinance) (3.7)\n",
      "Installing collected packages: webencodings, pillow, peewee, multitasking, kiwisolver, importlib-resources, html5lib, frozendict, fonttools, cycler, contourpy, yfinance, matplotlib\n",
      "Successfully installed contourpy-1.2.1 cycler-0.12.1 fonttools-4.53.1 frozendict-2.4.4 html5lib-1.1 importlib-resources-6.4.0 kiwisolver-1.4.5 matplotlib-3.9.1 multitasking-0.0.11 peewee-3.17.6 pillow-10.4.0 webencodings-0.5.1 yfinance-0.2.41\n",
      "\u001b[33mWARNING: You are using pip version 21.2.4; however, version 24.1.2 is available.\n",
      "You should consider upgrading via the '/Library/Developer/CommandLineTools/usr/bin/python3 -m pip install --upgrade pip' command.\u001b[0m\n",
      "Note: you may need to restart the kernel to use updated packages.\n"
     ]
    }
   ],
   "source": [
    "pip install yfinance pandas matplotlib"
   ]
  },
  {
   "cell_type": "code",
   "execution_count": 2,
   "id": "d4ebb0e8",
   "metadata": {},
   "outputs": [
    {
     "ename": "FileNotFoundError",
     "evalue": "[Errno 2] No such file or directory: '/mnt/data/sentiment_data.csv'",
     "output_type": "error",
     "traceback": [
      "\u001b[0;31m---------------------------------------------------------------------------\u001b[0m",
      "\u001b[0;31mFileNotFoundError\u001b[0m                         Traceback (most recent call last)",
      "Cell \u001b[0;32mIn[2], line 5\u001b[0m\n\u001b[1;32m      3\u001b[0m \u001b[38;5;66;03m# Load sentiment data\u001b[39;00m\n\u001b[1;32m      4\u001b[0m sentiment_data_path \u001b[38;5;241m=\u001b[39m \u001b[38;5;124m\"\u001b[39m\u001b[38;5;124m/mnt/data/sentiment_data.csv\u001b[39m\u001b[38;5;124m\"\u001b[39m\n\u001b[0;32m----> 5\u001b[0m sentiment_df \u001b[38;5;241m=\u001b[39m \u001b[43mpd\u001b[49m\u001b[38;5;241;43m.\u001b[39;49m\u001b[43mread_csv\u001b[49m\u001b[43m(\u001b[49m\u001b[43msentiment_data_path\u001b[49m\u001b[43m)\u001b[49m\n\u001b[1;32m      7\u001b[0m \u001b[38;5;66;03m# Process sentiment data\u001b[39;00m\n\u001b[1;32m      8\u001b[0m sentiment_df[\u001b[38;5;124m'\u001b[39m\u001b[38;5;124mdate\u001b[39m\u001b[38;5;124m'\u001b[39m] \u001b[38;5;241m=\u001b[39m pd\u001b[38;5;241m.\u001b[39mto_datetime(sentiment_df[\u001b[38;5;124m'\u001b[39m\u001b[38;5;124mdate\u001b[39m\u001b[38;5;124m'\u001b[39m])\n",
      "File \u001b[0;32m~/Library/Python/3.9/lib/python/site-packages/pandas/io/parsers/readers.py:1026\u001b[0m, in \u001b[0;36mread_csv\u001b[0;34m(filepath_or_buffer, sep, delimiter, header, names, index_col, usecols, dtype, engine, converters, true_values, false_values, skipinitialspace, skiprows, skipfooter, nrows, na_values, keep_default_na, na_filter, verbose, skip_blank_lines, parse_dates, infer_datetime_format, keep_date_col, date_parser, date_format, dayfirst, cache_dates, iterator, chunksize, compression, thousands, decimal, lineterminator, quotechar, quoting, doublequote, escapechar, comment, encoding, encoding_errors, dialect, on_bad_lines, delim_whitespace, low_memory, memory_map, float_precision, storage_options, dtype_backend)\u001b[0m\n\u001b[1;32m   1013\u001b[0m kwds_defaults \u001b[38;5;241m=\u001b[39m _refine_defaults_read(\n\u001b[1;32m   1014\u001b[0m     dialect,\n\u001b[1;32m   1015\u001b[0m     delimiter,\n\u001b[0;32m   (...)\u001b[0m\n\u001b[1;32m   1022\u001b[0m     dtype_backend\u001b[38;5;241m=\u001b[39mdtype_backend,\n\u001b[1;32m   1023\u001b[0m )\n\u001b[1;32m   1024\u001b[0m kwds\u001b[38;5;241m.\u001b[39mupdate(kwds_defaults)\n\u001b[0;32m-> 1026\u001b[0m \u001b[38;5;28;01mreturn\u001b[39;00m \u001b[43m_read\u001b[49m\u001b[43m(\u001b[49m\u001b[43mfilepath_or_buffer\u001b[49m\u001b[43m,\u001b[49m\u001b[43m \u001b[49m\u001b[43mkwds\u001b[49m\u001b[43m)\u001b[49m\n",
      "File \u001b[0;32m~/Library/Python/3.9/lib/python/site-packages/pandas/io/parsers/readers.py:620\u001b[0m, in \u001b[0;36m_read\u001b[0;34m(filepath_or_buffer, kwds)\u001b[0m\n\u001b[1;32m    617\u001b[0m _validate_names(kwds\u001b[38;5;241m.\u001b[39mget(\u001b[38;5;124m\"\u001b[39m\u001b[38;5;124mnames\u001b[39m\u001b[38;5;124m\"\u001b[39m, \u001b[38;5;28;01mNone\u001b[39;00m))\n\u001b[1;32m    619\u001b[0m \u001b[38;5;66;03m# Create the parser.\u001b[39;00m\n\u001b[0;32m--> 620\u001b[0m parser \u001b[38;5;241m=\u001b[39m \u001b[43mTextFileReader\u001b[49m\u001b[43m(\u001b[49m\u001b[43mfilepath_or_buffer\u001b[49m\u001b[43m,\u001b[49m\u001b[43m \u001b[49m\u001b[38;5;241;43m*\u001b[39;49m\u001b[38;5;241;43m*\u001b[39;49m\u001b[43mkwds\u001b[49m\u001b[43m)\u001b[49m\n\u001b[1;32m    622\u001b[0m \u001b[38;5;28;01mif\u001b[39;00m chunksize \u001b[38;5;129;01mor\u001b[39;00m iterator:\n\u001b[1;32m    623\u001b[0m     \u001b[38;5;28;01mreturn\u001b[39;00m parser\n",
      "File \u001b[0;32m~/Library/Python/3.9/lib/python/site-packages/pandas/io/parsers/readers.py:1620\u001b[0m, in \u001b[0;36mTextFileReader.__init__\u001b[0;34m(self, f, engine, **kwds)\u001b[0m\n\u001b[1;32m   1617\u001b[0m     \u001b[38;5;28mself\u001b[39m\u001b[38;5;241m.\u001b[39moptions[\u001b[38;5;124m\"\u001b[39m\u001b[38;5;124mhas_index_names\u001b[39m\u001b[38;5;124m\"\u001b[39m] \u001b[38;5;241m=\u001b[39m kwds[\u001b[38;5;124m\"\u001b[39m\u001b[38;5;124mhas_index_names\u001b[39m\u001b[38;5;124m\"\u001b[39m]\n\u001b[1;32m   1619\u001b[0m \u001b[38;5;28mself\u001b[39m\u001b[38;5;241m.\u001b[39mhandles: IOHandles \u001b[38;5;241m|\u001b[39m \u001b[38;5;28;01mNone\u001b[39;00m \u001b[38;5;241m=\u001b[39m \u001b[38;5;28;01mNone\u001b[39;00m\n\u001b[0;32m-> 1620\u001b[0m \u001b[38;5;28mself\u001b[39m\u001b[38;5;241m.\u001b[39m_engine \u001b[38;5;241m=\u001b[39m \u001b[38;5;28;43mself\u001b[39;49m\u001b[38;5;241;43m.\u001b[39;49m\u001b[43m_make_engine\u001b[49m\u001b[43m(\u001b[49m\u001b[43mf\u001b[49m\u001b[43m,\u001b[49m\u001b[43m \u001b[49m\u001b[38;5;28;43mself\u001b[39;49m\u001b[38;5;241;43m.\u001b[39;49m\u001b[43mengine\u001b[49m\u001b[43m)\u001b[49m\n",
      "File \u001b[0;32m~/Library/Python/3.9/lib/python/site-packages/pandas/io/parsers/readers.py:1880\u001b[0m, in \u001b[0;36mTextFileReader._make_engine\u001b[0;34m(self, f, engine)\u001b[0m\n\u001b[1;32m   1878\u001b[0m     \u001b[38;5;28;01mif\u001b[39;00m \u001b[38;5;124m\"\u001b[39m\u001b[38;5;124mb\u001b[39m\u001b[38;5;124m\"\u001b[39m \u001b[38;5;129;01mnot\u001b[39;00m \u001b[38;5;129;01min\u001b[39;00m mode:\n\u001b[1;32m   1879\u001b[0m         mode \u001b[38;5;241m+\u001b[39m\u001b[38;5;241m=\u001b[39m \u001b[38;5;124m\"\u001b[39m\u001b[38;5;124mb\u001b[39m\u001b[38;5;124m\"\u001b[39m\n\u001b[0;32m-> 1880\u001b[0m \u001b[38;5;28mself\u001b[39m\u001b[38;5;241m.\u001b[39mhandles \u001b[38;5;241m=\u001b[39m \u001b[43mget_handle\u001b[49m\u001b[43m(\u001b[49m\n\u001b[1;32m   1881\u001b[0m \u001b[43m    \u001b[49m\u001b[43mf\u001b[49m\u001b[43m,\u001b[49m\n\u001b[1;32m   1882\u001b[0m \u001b[43m    \u001b[49m\u001b[43mmode\u001b[49m\u001b[43m,\u001b[49m\n\u001b[1;32m   1883\u001b[0m \u001b[43m    \u001b[49m\u001b[43mencoding\u001b[49m\u001b[38;5;241;43m=\u001b[39;49m\u001b[38;5;28;43mself\u001b[39;49m\u001b[38;5;241;43m.\u001b[39;49m\u001b[43moptions\u001b[49m\u001b[38;5;241;43m.\u001b[39;49m\u001b[43mget\u001b[49m\u001b[43m(\u001b[49m\u001b[38;5;124;43m\"\u001b[39;49m\u001b[38;5;124;43mencoding\u001b[39;49m\u001b[38;5;124;43m\"\u001b[39;49m\u001b[43m,\u001b[49m\u001b[43m \u001b[49m\u001b[38;5;28;43;01mNone\u001b[39;49;00m\u001b[43m)\u001b[49m\u001b[43m,\u001b[49m\n\u001b[1;32m   1884\u001b[0m \u001b[43m    \u001b[49m\u001b[43mcompression\u001b[49m\u001b[38;5;241;43m=\u001b[39;49m\u001b[38;5;28;43mself\u001b[39;49m\u001b[38;5;241;43m.\u001b[39;49m\u001b[43moptions\u001b[49m\u001b[38;5;241;43m.\u001b[39;49m\u001b[43mget\u001b[49m\u001b[43m(\u001b[49m\u001b[38;5;124;43m\"\u001b[39;49m\u001b[38;5;124;43mcompression\u001b[39;49m\u001b[38;5;124;43m\"\u001b[39;49m\u001b[43m,\u001b[49m\u001b[43m \u001b[49m\u001b[38;5;28;43;01mNone\u001b[39;49;00m\u001b[43m)\u001b[49m\u001b[43m,\u001b[49m\n\u001b[1;32m   1885\u001b[0m \u001b[43m    \u001b[49m\u001b[43mmemory_map\u001b[49m\u001b[38;5;241;43m=\u001b[39;49m\u001b[38;5;28;43mself\u001b[39;49m\u001b[38;5;241;43m.\u001b[39;49m\u001b[43moptions\u001b[49m\u001b[38;5;241;43m.\u001b[39;49m\u001b[43mget\u001b[49m\u001b[43m(\u001b[49m\u001b[38;5;124;43m\"\u001b[39;49m\u001b[38;5;124;43mmemory_map\u001b[39;49m\u001b[38;5;124;43m\"\u001b[39;49m\u001b[43m,\u001b[49m\u001b[43m \u001b[49m\u001b[38;5;28;43;01mFalse\u001b[39;49;00m\u001b[43m)\u001b[49m\u001b[43m,\u001b[49m\n\u001b[1;32m   1886\u001b[0m \u001b[43m    \u001b[49m\u001b[43mis_text\u001b[49m\u001b[38;5;241;43m=\u001b[39;49m\u001b[43mis_text\u001b[49m\u001b[43m,\u001b[49m\n\u001b[1;32m   1887\u001b[0m \u001b[43m    \u001b[49m\u001b[43merrors\u001b[49m\u001b[38;5;241;43m=\u001b[39;49m\u001b[38;5;28;43mself\u001b[39;49m\u001b[38;5;241;43m.\u001b[39;49m\u001b[43moptions\u001b[49m\u001b[38;5;241;43m.\u001b[39;49m\u001b[43mget\u001b[49m\u001b[43m(\u001b[49m\u001b[38;5;124;43m\"\u001b[39;49m\u001b[38;5;124;43mencoding_errors\u001b[39;49m\u001b[38;5;124;43m\"\u001b[39;49m\u001b[43m,\u001b[49m\u001b[43m \u001b[49m\u001b[38;5;124;43m\"\u001b[39;49m\u001b[38;5;124;43mstrict\u001b[39;49m\u001b[38;5;124;43m\"\u001b[39;49m\u001b[43m)\u001b[49m\u001b[43m,\u001b[49m\n\u001b[1;32m   1888\u001b[0m \u001b[43m    \u001b[49m\u001b[43mstorage_options\u001b[49m\u001b[38;5;241;43m=\u001b[39;49m\u001b[38;5;28;43mself\u001b[39;49m\u001b[38;5;241;43m.\u001b[39;49m\u001b[43moptions\u001b[49m\u001b[38;5;241;43m.\u001b[39;49m\u001b[43mget\u001b[49m\u001b[43m(\u001b[49m\u001b[38;5;124;43m\"\u001b[39;49m\u001b[38;5;124;43mstorage_options\u001b[39;49m\u001b[38;5;124;43m\"\u001b[39;49m\u001b[43m,\u001b[49m\u001b[43m \u001b[49m\u001b[38;5;28;43;01mNone\u001b[39;49;00m\u001b[43m)\u001b[49m\u001b[43m,\u001b[49m\n\u001b[1;32m   1889\u001b[0m \u001b[43m\u001b[49m\u001b[43m)\u001b[49m\n\u001b[1;32m   1890\u001b[0m \u001b[38;5;28;01massert\u001b[39;00m \u001b[38;5;28mself\u001b[39m\u001b[38;5;241m.\u001b[39mhandles \u001b[38;5;129;01mis\u001b[39;00m \u001b[38;5;129;01mnot\u001b[39;00m \u001b[38;5;28;01mNone\u001b[39;00m\n\u001b[1;32m   1891\u001b[0m f \u001b[38;5;241m=\u001b[39m \u001b[38;5;28mself\u001b[39m\u001b[38;5;241m.\u001b[39mhandles\u001b[38;5;241m.\u001b[39mhandle\n",
      "File \u001b[0;32m~/Library/Python/3.9/lib/python/site-packages/pandas/io/common.py:873\u001b[0m, in \u001b[0;36mget_handle\u001b[0;34m(path_or_buf, mode, encoding, compression, memory_map, is_text, errors, storage_options)\u001b[0m\n\u001b[1;32m    868\u001b[0m \u001b[38;5;28;01melif\u001b[39;00m \u001b[38;5;28misinstance\u001b[39m(handle, \u001b[38;5;28mstr\u001b[39m):\n\u001b[1;32m    869\u001b[0m     \u001b[38;5;66;03m# Check whether the filename is to be opened in binary mode.\u001b[39;00m\n\u001b[1;32m    870\u001b[0m     \u001b[38;5;66;03m# Binary mode does not support 'encoding' and 'newline'.\u001b[39;00m\n\u001b[1;32m    871\u001b[0m     \u001b[38;5;28;01mif\u001b[39;00m ioargs\u001b[38;5;241m.\u001b[39mencoding \u001b[38;5;129;01mand\u001b[39;00m \u001b[38;5;124m\"\u001b[39m\u001b[38;5;124mb\u001b[39m\u001b[38;5;124m\"\u001b[39m \u001b[38;5;129;01mnot\u001b[39;00m \u001b[38;5;129;01min\u001b[39;00m ioargs\u001b[38;5;241m.\u001b[39mmode:\n\u001b[1;32m    872\u001b[0m         \u001b[38;5;66;03m# Encoding\u001b[39;00m\n\u001b[0;32m--> 873\u001b[0m         handle \u001b[38;5;241m=\u001b[39m \u001b[38;5;28;43mopen\u001b[39;49m\u001b[43m(\u001b[49m\n\u001b[1;32m    874\u001b[0m \u001b[43m            \u001b[49m\u001b[43mhandle\u001b[49m\u001b[43m,\u001b[49m\n\u001b[1;32m    875\u001b[0m \u001b[43m            \u001b[49m\u001b[43mioargs\u001b[49m\u001b[38;5;241;43m.\u001b[39;49m\u001b[43mmode\u001b[49m\u001b[43m,\u001b[49m\n\u001b[1;32m    876\u001b[0m \u001b[43m            \u001b[49m\u001b[43mencoding\u001b[49m\u001b[38;5;241;43m=\u001b[39;49m\u001b[43mioargs\u001b[49m\u001b[38;5;241;43m.\u001b[39;49m\u001b[43mencoding\u001b[49m\u001b[43m,\u001b[49m\n\u001b[1;32m    877\u001b[0m \u001b[43m            \u001b[49m\u001b[43merrors\u001b[49m\u001b[38;5;241;43m=\u001b[39;49m\u001b[43merrors\u001b[49m\u001b[43m,\u001b[49m\n\u001b[1;32m    878\u001b[0m \u001b[43m            \u001b[49m\u001b[43mnewline\u001b[49m\u001b[38;5;241;43m=\u001b[39;49m\u001b[38;5;124;43m\"\u001b[39;49m\u001b[38;5;124;43m\"\u001b[39;49m\u001b[43m,\u001b[49m\n\u001b[1;32m    879\u001b[0m \u001b[43m        \u001b[49m\u001b[43m)\u001b[49m\n\u001b[1;32m    880\u001b[0m     \u001b[38;5;28;01melse\u001b[39;00m:\n\u001b[1;32m    881\u001b[0m         \u001b[38;5;66;03m# Binary mode\u001b[39;00m\n\u001b[1;32m    882\u001b[0m         handle \u001b[38;5;241m=\u001b[39m \u001b[38;5;28mopen\u001b[39m(handle, ioargs\u001b[38;5;241m.\u001b[39mmode)\n",
      "\u001b[0;31mFileNotFoundError\u001b[0m: [Errno 2] No such file or directory: '/mnt/data/sentiment_data.csv'"
     ]
    }
   ],
   "source": [
    "import pandas as pd\n",
    "\n",
    "# Load sentiment data\n",
    "sentiment_data_path = \"/mnt/data/sentiment_data.csv\"\n",
    "sentiment_df = pd.read_csv(sentiment_data_path)\n",
    "\n",
    "# Process sentiment data\n",
    "sentiment_df['date'] = pd.to_datetime(sentiment_df['date'])\n",
    "sentiment_df = sentiment_df.set_index(['date', 'symbol'])\n",
    "sentiment_df['engagement_ratio'] = sentiment_df['twitterComments'] / sentiment_df['twitterLikes']\n",
    "sentiment_df = sentiment_df[(sentiment_df['twitterLikes'] > 20) & (sentiment_df['twitterComments'] > 10)]"
   ]
  },
  {
   "cell_type": "markdown",
   "id": "130cab3d",
   "metadata": {},
   "source": [
    "## Step 2: Aggregate and Rank Data\n",
    "We aggregate the data by month and rank the symbols based on their engagement ratio."
   ]
  },
  {
   "cell_type": "code",
   "execution_count": null,
   "id": "9c953d36",
   "metadata": {},
   "outputs": [],
   "source": [
    "# Aggregate and rank data\n",
    "aggregated_df = (sentiment_df.reset_index('symbol')\n",
    "                 .groupby([pd.Grouper(freq='ME'), 'symbol'])\n",
    "                 [['engagement_ratio']].mean())\n",
    "aggregated_df['rank'] = (aggregated_df.groupby(level=0)['engagement_ratio']\n",
    "                         .transform(lambda x: x.rank(ascending=False)))\n",
    "\n",
    "# Filter top symbols\n",
    "filtered_df = aggregated_df[aggregated_df['rank'] < 6].copy()\n",
    "filtered_df = filtered_df.reset_index(level=1)\n",
    "filtered_df.index = filtered_df.index + pd.DateOffset(1)\n",
    "filtered_df = filtered_df.reset_index().set_index(['date', 'symbol'])\n",
    "\n",
    "# Generate fixed dates dictionary\n",
    "dates = filtered_df.index.get_level_values('date').unique().tolist()\n",
    "fixed_dates = {d.strftime('%Y-%m-%d'): filtered_df.xs(d, level=0).index.tolist() for d in dates}"
   ]
  },
  {
   "cell_type": "markdown",
   "id": "82063bf2",
   "metadata": {},
   "source": [
    "## Step 3: Fetch Stock Prices\n",
    "We fetch the stock prices for the symbols in the sentiment data using the `yfinance` library."
   ]
  },
  {
   "cell_type": "code",
   "execution_count": null,
   "id": "d5b13fcb",
   "metadata": {},
   "outputs": [],
   "source": [
    "import yfinance as yf\n",
    "\n",
    "# Fetch stock prices\n",
    "stocks_list = sentiment_df.index.get_level_values('symbol').unique().tolist()\n",
    "prices_df = yf.download(tickers=stocks_list, start='2021-01-01', end='2023-03-01')\n",
    "\n",
    "# Debug: Verify prices_df structure\n",
    "print(\"prices_df head:\")\n",
    "print(prices_df.head())"
   ]
  },
  {
   "cell_type": "markdown",
   "id": "e7eac34c",
   "metadata": {},
   "source": [
    "## Step 4: Extract Adjusted Close Prices\n",
    "We extract the adjusted close prices from the fetched stock prices data."
   ]
  },
  {
   "cell_type": "code",
   "execution_count": null,
   "id": "b672da66",
   "metadata": {},
   "outputs": [],
   "source": [
    "# Ensure 'Adj Close' exists and is structured properly\n",
    "if 'Adj Close' not in prices_df.columns.levels[0]:\n",
    "    raise ValueError(\"'Adj Close' not found in prices_df\")\n",
    "\n",
    "# Debug: Verify prices_df columns\n",
    "print(\"prices_df columns:\")\n",
    "print(prices_df.columns)\n",
    "\n",
    "# Extract 'Adj Close' prices\n",
    "prices_adj_close = prices_df['Adj Close']\n",
    "\n",
    "# Debug: Verify prices_adj_close\n",
    "print(\"prices_adj_close head:\")\n",
    "print(prices_adj_close.head())"
   ]
  },
  {
   "cell_type": "markdown",
   "id": "d88dcc2c",
   "metadata": {},
   "source": [
    "## Step 5: Handle NaN Values and Calculate Log Returns\n",
    "We handle any NaN values in the adjusted close prices and calculate the log returns."
   ]
  },
  {
   "cell_type": "code",
   "execution_count": null,
   "id": "faf8369d",
   "metadata": {},
   "outputs": [],
   "source": [
    "# Check for any NaN values and data types\n",
    "print(\"prices_adj_close NaNs:\")\n",
    "print(prices_adj_close.isna().sum())\n",
    "\n",
    "print(\"prices_adj_close data types:\")\n",
    "print(prices_adj_close.dtypes)\n",
    "\n",
    "# Debug: Print the shape and index of prices_adj_close\n",
    "print(\"prices_adj_close shape:\", prices_adj_close.shape)\n",
    "print(\"prices_adj_close index:\", prices_adj_close.index)\n",
    "\n",
    "# Ensure index is sorted\n",
    "prices_adj_close.sort_index(inplace=True)\n",
    "\n",
    "# Debug: Verify data after shifting\n",
    "shifted_prices = prices_adj_close.shift(1)\n",
    "print(\"shifted_prices head:\")\n",
    "print(shifted_prices.head())\n",
    "\n",
    "# Calculate log returns without dropping NaNs\n",
    "raw_log_returns = np.log(prices_adj_close / shifted_prices)\n",
    "print(\"raw_log_returns head:\")\n",
    "print(raw_log_returns.head())\n",
    "\n",
    "# Handle NaNs by filling them with zero\n",
    "log_returns = raw_log_returns.fillna(0)\n",
    "print(\"log_returns head after filling NaNs:\")\n",
    "print(log_returns.head())\n",
    "\n",
    "# Print the index of log_returns to check available dates\n",
    "print(\"Available dates in log_returns:\")\n",
    "print(log_returns.index)"
   ]
  },
  {
   "cell_type": "markdown",
   "id": "3464f893",
   "metadata": {},
   "source": [
    "## Step 6: Create Portfolio DataFrame\n",
    "We create a DataFrame for the portfolio returns by calculating the average log returns for the selected symbols in each date range."
   ]
  },
  {
   "cell_type": "code",
   "execution_count": null,
   "id": "1f195f9e",
   "metadata": {},
   "outputs": [],
   "source": [
    "# Initialize empty DataFrame for portfolio returns\n",
    "portfolio_df = pd.DataFrame()\n",
    "\n",
    "for start_date in fixed_dates.keys():\n",
    "    end_date = (pd.to_datetime(start_date) + pd.offsets.MonthEnd()).strftime('%Y-%m-%d')\n",
    "    cols = fixed_dates[start_date]\n",
    "    temp_df = log_returns.loc[start_date:end_date, cols].mean(axis=1).to_frame('portfolio_return')\n",
    "    portfolio_df = pd.concat([portfolio_df, temp_df])\n",
    "\n",
    "# Display the final portfolio DataFrame\n",
    "print(\"Final Portfolio DataFrame:\")\n",
    "print(portfolio_df)"
   ]
  },
  {
   "cell_type": "markdown",
   "id": "1bdaa041",
   "metadata": {},
   "source": [
    "## Conclusion\n",
    "We have successfully implemented a Twitter sentiment investing strategy, where we used Twitter sentiment data to select stocks and calculated portfolio returns based on the log returns of these selected stocks."
   ]
  }
 ],
 "metadata": {
  "kernelspec": {
   "display_name": "Python 3",
   "language": "python",
   "name": "python3"
  },
  "language_info": {
   "codemirror_mode": {
    "name": "ipython",
    "version": 3
   },
   "file_extension": ".py",
   "mimetype": "text/x-python",
   "name": "python",
   "nbconvert_exporter": "python",
   "pygments_lexer": "ipython3",
   "version": "3.9.6"
  }
 },
 "nbformat": 4,
 "nbformat_minor": 5
}
